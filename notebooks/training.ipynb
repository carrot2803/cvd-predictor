{
 "cells": [
  {
   "cell_type": "code",
   "execution_count": null,
   "metadata": {},
   "outputs": [],
   "source": [
    "%cd ~/Documents/cvd-predictor/\n",
    "from sklearnex import patch_sklearn\n",
    "patch_sklearn()\n",
    "import polars as pl\n",
    "from sklearn.calibration import LabelEncoder\n",
    "import seaborn as sns\n",
    "import numpy as np\n",
    "from sklearn.model_selection import train_test_split\n",
    "from sklearn.preprocessing import StandardScaler\n",
    "from sklearn.linear_model import LogisticRegression\n",
    "from sklearn.ensemble import RandomForestClassifier\n",
    "import plotly.graph_objects as go\n",
    "from sklearn.naive_bayes import GaussianNB\n",
    "from sklearn.svm import LinearSVC\n",
    "from xgboost import XGBClassifier\n",
    "from lightgbm import LGBMClassifier\n",
    "from sklearn.metrics import classification_report\n",
    "from CVD.utils import get_metrics, plot_feature_importances\n",
    "\n",
    "sns.set_theme()"
   ]
  },
  {
   "cell_type": "code",
   "execution_count": null,
   "metadata": {},
   "outputs": [],
   "source": [
    "# df = pl.read_csv(\"data/intermediate/heart_cdc_2023.csv\")\n",
    "# df.write_parquet(\"data/intermediate/heart_cdc_2023.parquet\")\n",
    "df: pl.DataFrame = pl.read_parquet(\"data/intermediate/heart_cdc_2023.parquet\")\n",
    "\n",
    "SMOKER: dict[int, int] = {1: 1, 2: 1, 3: 0, 4: 0}\n",
    "BIN: dict[int, int] = {1: 1, 2: 0}\n",
    "ASTHMA: dict[int, int] = {1: 0, 2: 1} # asthma is flipped performance reasons\n",
    "\n",
    "df: pl.DataFrame = df.with_columns(\n",
    "    pl.col(\"SmokerStatus\").map_elements(SMOKER.get, return_dtype=pl.Int8),\n",
    "    pl.col(\"AlcoholDrinkers\").map_elements(BIN.get, return_dtype=pl.Int8),\n",
    "    pl.col(\"HadKidneyDisease\").map_elements(BIN.get, return_dtype=pl.Int8),\n",
    "    pl.col(\"HadDepressiveDisorder\").map_elements(BIN.get, return_dtype=pl.Int8),\n",
    "    pl.col(\"HadCOPD\").map_elements(BIN.get, return_dtype=pl.Int8),\n",
    "    pl.col(\"HadSkinCancer\").map_elements(BIN.get, return_dtype=pl.Int8),\n",
    "    pl.col(\"HadAsthma\").map_elements(ASTHMA.get, return_dtype=pl.Int8),\n",
    "    pl.col(\"PhysicalActivities\").map_elements(ASTHMA.get, return_dtype=pl.Int8),\n",
    "    (pl.col(\"WeightInKilograms\") / (pl.col(\"HeightInMeters\") ** 2)).alias(\"BMI\"),\n",
    ")\n",
    "df = df.drop_nulls()\n",
    "df.write_parquet(\"data/intermediate/heart_cdc_2023_cleaned.parquet\")"
   ]
  },
  {
   "cell_type": "code",
   "execution_count": null,
   "metadata": {},
   "outputs": [],
   "source": [
    "label_encoders: dict = {}\n",
    "copy = df.drop([\"Sex\"])\n",
    "\n",
    "for col in copy.columns:\n",
    "    le = LabelEncoder()\n",
    "    encoded_col: np.ndarray = le.fit_transform(copy[col].to_numpy())\n",
    "    copy:  pl.DataFrame = copy.with_columns(pl.Series(col, encoded_col))\n",
    "    label_encoders[col] = le\n",
    "\n",
    "correlation_matrix: np.ndarray = copy.corr().to_numpy()\n",
    "formatted_text: list[list[str]] = [[f\"{value:.2f}\" for value in row] for row in correlation_matrix]\n",
    "\n",
    "fig = go.Figure(data=go.Heatmap(\n",
    "    z=correlation_matrix,\n",
    "    x=copy.columns,\n",
    "    y=copy.columns,\n",
    "    colorscale=\"rdbu\",\n",
    "    zmin=-1,\n",
    "    zmax=1,\n",
    "    reversescale=True,\n",
    "    text=formatted_text,\n",
    "    texttemplate=\"%{text}\",\n",
    "    colorbar=dict(title=\"Correlation\")\n",
    "))\n",
    "\n",
    "fig.update_layout(\n",
    "    title=\"Feature Correlation Heatmap\",\n",
    "    xaxis=dict(tickangle=45, title=\"Features\"),\n",
    "    yaxis=dict(title=\"Features\"),\n",
    "    width=900,\n",
    "    height=900\n",
    ")\n",
    "\n",
    "fig.show()"
   ]
  },
  {
   "cell_type": "code",
   "execution_count": null,
   "metadata": {},
   "outputs": [],
   "source": [
    "X: pl.DataFrame = df.drop([\"CVD\"])\n",
    "y: pl.Series = df[\"CVD\"]\n",
    "\n",
    "scaler = StandardScaler()\n",
    "X[X.columns] = scaler.fit_transform(X)"
   ]
  },
  {
   "cell_type": "code",
   "execution_count": null,
   "metadata": {},
   "outputs": [],
   "source": [
    "X_train, X_test, y_train, y_test = train_test_split(\n",
    "    X, y, test_size=0.2, random_state=42, stratify=y\n",
    ")\n",
    "y_train.value_counts()"
   ]
  },
  {
   "cell_type": "code",
   "execution_count": null,
   "metadata": {},
   "outputs": [],
   "source": [
    "models: dict = {\n",
    "    \"Logistic Regression\": LogisticRegression(max_iter=10000, random_state=42),\n",
    "    \"Naive Bayes\": GaussianNB(),\n",
    "    \"SVM\": LinearSVC(random_state=42, dual=False),\n",
    "    \"Random Forest\": RandomForestClassifier(n_estimators=100, random_state=42),\n",
    "    \"LightGBM\": LGBMClassifier(n_estimators=100, random_state=42),\n",
    "    \"XGBoost\": XGBClassifier(n_estimators=100, eval_metric=\"logloss\", random_state=42),\n",
    "}"
   ]
  },
  {
   "cell_type": "code",
   "execution_count": null,
   "metadata": {},
   "outputs": [],
   "source": [
    "results: list[dict] = []\n",
    "for name, model in models.items():\n",
    "    model.fit(X_train, y_train) \n",
    "    y_pred: np.ndarray = model.predict(X_test) \n",
    "    # print(classification_report(y_test, y_pred))\n",
    "    results.append(get_metrics(y_test, y_pred, name))\n",
    "    # plot_feature_importances(model, X, 15, name)"
   ]
  },
  {
   "cell_type": "code",
   "execution_count": null,
   "metadata": {},
   "outputs": [],
   "source": [
    "results_df = pl.DataFrame(results)\n",
    "results_df"
   ]
  }
 ],
 "metadata": {
  "kernelspec": {
   "display_name": "Python 3",
   "language": "python",
   "name": "python3"
  },
  "language_info": {
   "codemirror_mode": {
    "name": "ipython",
    "version": 3
   },
   "file_extension": ".py",
   "mimetype": "text/x-python",
   "name": "python",
   "nbconvert_exporter": "python",
   "pygments_lexer": "ipython3",
   "version": "3.11.3"
  }
 },
 "nbformat": 4,
 "nbformat_minor": 2
}
