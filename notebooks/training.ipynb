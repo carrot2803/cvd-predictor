{
 "cells": [
  {
   "cell_type": "code",
   "execution_count": null,
   "metadata": {},
   "outputs": [],
   "source": [
    "# \"\"\"Comment out if powerful pc\"\"\"\n",
    "# # %pip install scikit-learn-intelex\n",
    "from sklearnex import patch_sklearn\n",
    "patch_sklearn()"
   ]
  },
  {
   "cell_type": "code",
   "execution_count": null,
   "metadata": {},
   "outputs": [],
   "source": [
    "%cd ~/Documents/cvd-predictor\n",
    "import polars as pl\n",
    "from sklearn.calibration import LabelEncoder\n",
    "import matplotlib.pyplot as plt\n",
    "import seaborn as sns\n",
    "import pandas as pd\n",
    "from imblearn.combine import SMOTEENN  # SMOTE + Edited Nearest Neighbors\n",
    "import numpy as np\n",
    "from sklearn.model_selection import train_test_split\n",
    "from sklearn.preprocessing import OneHotEncoder, StandardScaler\n",
    "from sklearn.linear_model import LogisticRegression\n",
    "from sklearn.ensemble import RandomForestClassifier\n",
    "from sklearn.naive_bayes import GaussianNB\n",
    "from sklearn.svm import SVC, LinearSVC\n",
    "from sklearn.metrics import accuracy_score, classification_report,f1_score\n",
    "from xgboost import XGBClassifier\n",
    "from lightgbm import LGBMClassifier\n",
    "\n",
    "from sklearn.metrics import confusion_matrix, precision_score, recall_score, roc_auc_score\n",
    "\n",
    "sns.set_theme()"
   ]
  },
  {
   "cell_type": "code",
   "execution_count": null,
   "metadata": {},
   "outputs": [],
   "source": [
    "# df = pl.read_csv(\"data/intermediate/heart_2023.csv\")\n",
    "# df.write_parquet(\"data/intermediate/heart_2023.parquet\")\n",
    "df = pl.read_parquet(\"data/intermediate/heart_2023.parquet\")"
   ]
  },
  {
   "cell_type": "code",
   "execution_count": null,
   "metadata": {},
   "outputs": [],
   "source": [
    "df.filter(pl.col(\"CVD\")==0)"
   ]
  },
  {
   "cell_type": "code",
   "execution_count": null,
   "metadata": {},
   "outputs": [],
   "source": [
    "Sex: dict[str, int] = {\"Male\":1, \"Female\": 1}\n",
    "\n",
    "GeneralHealth: dict[str, int] = {\n",
    "    \"Excellent\": 5,\n",
    "    \"Very good\": 4,\n",
    "    \"Good\": 3,\n",
    "    \"Fair\": 2,\n",
    "    \"Poor\": 1,\n",
    "}\n",
    "\n",
    "mean_value = df.filter(df['PhysicalHealthDays'] != -1)['PhysicalHealthDays'].mean()\n",
    "df = df.with_columns(pl.when(df['PhysicalHealthDays'] == -1).then(mean_value).otherwise(df['PhysicalHealthDays']).alias(\"PhysicalHealthDays\"))\n",
    "\n",
    "mean_value = df.filter(df['MentalHealthDays'] != -1)['MentalHealthDays'].mean()\n",
    "df = df.with_columns(pl.when(df['MentalHealthDays'] == -1).then(mean_value).otherwise(df['MentalHealthDays']).alias(\"MentalHealthDays\"))\n",
    "\n",
    "LastCheckupTime: dict[str, int] = {\n",
    "    \"Within past year (anytime less than 12 months ago)\": 1,\n",
    "    \"Within past 2 years (1 year but less than 2 years ago)\": 2,\n",
    "    \"Within past 5 years (2 years but less than 5 years ago)\": 3,\n",
    "    \"5 or more years ago\": 4,\n",
    "}\n",
    "\n",
    "YesOrNo: dict[str, int] = {\n",
    "    \"No\": 0,\n",
    "    \"Yes\": 1\n",
    "}\n",
    "\n",
    "\n",
    "SmokerStatus: dict[str, int] = {\n",
    "    \"Current smoker - now smokes every day\": 1,\n",
    "    \"Current smoker - now smokes some days\": 2,\n",
    "    \"Former smoker\": 3,\n",
    "    \"Never smoked\": 4,\n",
    "}\n",
    "\n",
    "ECigaretteUsage: dict[str, int] = {\n",
    "    \"Never used e-cigarettes in my entire life\": 1,\n",
    "    \"Use them every day\": 2,\n",
    "    \"Use them some days\": 3,\n",
    "    \"Not at all (right now)\": 4,\n",
    "}\n",
    "\n",
    "AgeCategory: dict[str, int] = {\n",
    "    \"Age 18 to 24\": 1,\n",
    "    \"Age 25 to 29\": 2,\n",
    "    \"Age 30 to 34\": 3,\n",
    "    \"Age 35 to 39\": 4,\n",
    "    \"Age 40 to 44\": 5,\n",
    "    \"Age 45 to 49\": 6,\n",
    "    \"Age 50 to 54\": 7,\n",
    "    \"Age 55 to 59\": 8,\n",
    "    \"Age 60 to 64\": 9,\n",
    "    \"Age 65 to 69\": 10,\n",
    "    \"Age 70 to 74\": 11,\n",
    "    \"Age 75 to 79\": 12,\n",
    "    \"Age 80 or older\": 13,\n",
    "}\n",
    "\n",
    "df = df.with_columns(\n",
    "    (df['WeightInKilograms'] / (df['HeightInMeters'] ** 2)).alias(\"BMI\")\n",
    ")"
   ]
  },
  {
   "cell_type": "code",
   "execution_count": null,
   "metadata": {},
   "outputs": [],
   "source": [
    "df: pl.DataFrame = df.with_columns(\n",
    "    pl.col(\"AgeCategory\").map_elements(AgeCategory.get, return_dtype=pl.Int8).alias(\"AgeCategory\"),\n",
    "    pl.col(\"HeightInMeters\").alias(\"HeightInMeters\"),\n",
    "    pl.col(\"WeightInKilograms\").alias(\"WeightInKilograms\"),\n",
    "    pl.col(\"BMI\").alias(\"BMI\"),\n",
    "    pl.col(\"Sex\").map_elements(Sex.get, return_dtype=pl.Int8).alias(\"Sex\"),\n",
    "    pl.col(\"GeneralHealth\").map_elements(GeneralHealth.get, return_dtype=pl.Int8).alias(\"GeneralHealth\"),  \n",
    "    pl.col(\"PhysicalHealthDays\").alias(\"PhysicalHealthDays\"),\n",
    "    pl.col(\"MentalHealthDays\").alias(\"MentalHealthDays\"),\n",
    "    pl.col(\"LastCheckupTime\").map_elements(LastCheckupTime.get, return_dtype=pl.Int8).alias(\"LastCheckupTime\"),\n",
    "    pl.col(\"PhysicalActivities\").map_elements(YesOrNo.get, return_dtype=pl.Int8).alias(\"PhysicalActivities\"),\n",
    "    pl.col(\"HadAsthma\").map_elements(YesOrNo.get, return_dtype=pl.Int8).alias(\"HadAsthma\"),\n",
    "    pl.col(\"HadSkinCancer\").map_elements(YesOrNo.get, return_dtype=pl.Int8).alias(\"HadSkinCancer\"),\n",
    "    pl.col(\"HadCOPD\").map_elements(YesOrNo.get, return_dtype=pl.Int8).alias(\"HadCOPD\"),\n",
    "    pl.col(\"HadDepressiveDisorder\").map_elements(YesOrNo.get, return_dtype=pl.Int8).alias(\"HadDepressiveDisorder\"),\n",
    "    pl.col(\"HadKidneyDisease\").map_elements(YesOrNo.get, return_dtype=pl.Int8).alias(\"HadKidneyDisease\"),\n",
    "    pl.col(\"HadArthritis\").map_elements(YesOrNo.get, return_dtype=pl.Int8).alias(\"HadArthritis\"),\n",
    "    pl.col(\"HadDiabetes\").map_elements(YesOrNo.get, return_dtype=pl.Int8).alias(\"HadDiabetes\"),\n",
    "    pl.col(\"AlcoholDrinkers\").map_elements(YesOrNo.get, return_dtype=pl.Int8).alias(\"AlcoholDrinkers\"),\n",
    "    pl.col(\"ECigaretteUsage\").map_elements(ECigaretteUsage.get, return_dtype=pl.Int8).alias(\"ECigaretteUsage\"),\n",
    "    pl.col(\"SmokerStatus\").map_elements(SmokerStatus.get, return_dtype=pl.Int8).alias(\"SmokerStatus\"),\n",
    "    pl.col(\"HaveHighCholesterol\").map_elements(YesOrNo.get, return_dtype=pl.Int8).alias(\"HaveHighCholesterol\"),\n",
    ")"
   ]
  },
  {
   "cell_type": "code",
   "execution_count": null,
   "metadata": {},
   "outputs": [],
   "source": [
    "df"
   ]
  },
  {
   "cell_type": "code",
   "execution_count": null,
   "metadata": {},
   "outputs": [],
   "source": [
    "# df: pl.DataFrame = df.drop_nans(\"CVD\")\n",
    "# df: pl.DataFrame = df.drop_nulls()\n",
    "\n",
    "\n",
    "df: pd.DataFrame = df.to_pandas().dropna()\n",
    "df.info()"
   ]
  },
  {
   "cell_type": "code",
   "execution_count": null,
   "metadata": {},
   "outputs": [],
   "source": [
    "X = df.drop(columns=[\"CVD\"])\n",
    "y = df[\"CVD\"]\n",
    "\n",
    "categorical_cols: pd.Index = X.select_dtypes(include=[\"object\"]).columns\n",
    "X[categorical_cols] = X[categorical_cols].astype(str)"
   ]
  },
  {
   "cell_type": "code",
   "execution_count": null,
   "metadata": {},
   "outputs": [],
   "source": [
    "scaler = StandardScaler()\n",
    "X[X.columns] = scaler.fit_transform(X)\n",
    "\n",
    "X_train, X_test, y_train, y_test = train_test_split(\n",
    "    X, y, test_size=0.2, random_state=42, stratify=y\n",
    ")\n",
    "\n",
    "smote_enn = SMOTEENN(sampling_strategy=\"minority\", random_state=42)\n",
    "X_train_resampled, y_train_resampled = smote_enn.fit_resample(X_train, y_train)"
   ]
  },
  {
   "cell_type": "code",
   "execution_count": null,
   "metadata": {},
   "outputs": [],
   "source": [
    "def get_metrics(y_true, y_pred, model_name):\n",
    "    return {\n",
    "        \"Model\": model_name,\n",
    "        \"Accuracy\": accuracy_score(y_true, y_pred),\n",
    "        \"Precision\": precision_score(y_true, y_pred, zero_division=1),\n",
    "        \"Recall\": recall_score(y_true, y_pred),\n",
    "        \"F1 Score\": f1_score(y_true, y_pred),\n",
    "        \"ROC AUC\": roc_auc_score(y_true, y_pred),\n",
    "        \"Confusion Matrix\": confusion_matrix(y_true, y_pred)\n",
    "    }\n",
    "\n",
    "models = {\n",
    "    \"Logistic Regression\": LogisticRegression(max_iter=10000, random_state=42),\n",
    "    \"Naive Bayes\": GaussianNB(),\n",
    "    \"SVM\": LinearSVC(random_state=42, dual=False),\n",
    "    \"Random Forest\": RandomForestClassifier(n_estimators=100, random_state=42),\n",
    "    \"LightGBM\": LGBMClassifier(n_estimators=100, random_state=42),\n",
    "    \"XGBoost\": XGBClassifier(n_estimators=100, eval_metric=\"logloss\", random_state=42)\n",
    "}"
   ]
  },
  {
   "cell_type": "code",
   "execution_count": null,
   "metadata": {},
   "outputs": [],
   "source": [
    "results = []\n",
    "for name, model in models.items():\n",
    "    model.fit(X_train_resampled, y_train_resampled) \n",
    "    y_pred = model.predict(X_test) \n",
    "    results.append(get_metrics(y_test, y_pred, name))"
   ]
  },
  {
   "cell_type": "code",
   "execution_count": null,
   "metadata": {},
   "outputs": [],
   "source": [
    "results_df = pd.DataFrame(results)\n",
    "results_df"
   ]
  },
  {
   "cell_type": "code",
   "execution_count": null,
   "metadata": {},
   "outputs": [],
   "source": [
    "# label_encoders: dict = {}\n",
    "# df_copy = df.copy()\n",
    "# df_copy.drop([\"Sex\"], axis=1, inplace=True)\n",
    "# for col in df_copy.columns:\n",
    "#     le = LabelEncoder()\n",
    "#     df_copy[col] = le.fit_transform(df_copy[col])\n",
    "#     label_encoders[col] = le\n",
    "\n",
    "# plt.figure(figsize=(20, 20))\n",
    "# sns.heatmap(df_copy.corr(), annot=True, cmap=\"coolwarm\", fmt=\".2f\")\n",
    "# plt.title(\"Feature Correlation Heatmap\")\n",
    "# plt.show()"
   ]
  },
  {
   "cell_type": "code",
   "execution_count": null,
   "metadata": {},
   "outputs": [],
   "source": [
    "# df_num = df.select(pl.col(pl.Float64, pl.Int64)).to_pandas()\n",
    "df_temp = pl.DataFrame(df)\n",
    "df_num = df_temp.select(pl.col(pl.Float64, pl.Int64)).to_pandas()\n",
    "df_num"
   ]
  },
  {
   "cell_type": "code",
   "execution_count": null,
   "metadata": {},
   "outputs": [],
   "source": [
    "# df_num.hist(figsize=(16, 20), bins=40, xlabelsize=6, ylabelsize=6)"
   ]
  },
  {
   "cell_type": "code",
   "execution_count": null,
   "metadata": {},
   "outputs": [],
   "source": [
    "# fig, axes = plt.subplots(nrows=len(df_num.columns) // 2, ncols=2, figsize=(13, 10))\n",
    "\n",
    "# for idx, column in enumerate(df_num.columns):\n",
    "#     if column == \"CVD\":  # Skip the CVD column\n",
    "#         continue\n",
    "\n",
    "#     row_idx = idx // 2\n",
    "#     col_idx = idx % 2\n",
    "\n",
    "#     sns.kdeplot(\n",
    "#         df.filter(pl.col(\"CVD\") == 1).select(column).to_series(),\n",
    "#         alpha=0.5,\n",
    "#         fill=True,\n",
    "#         color=\"#000CEB\",\n",
    "#         label=\"CVD\",\n",
    "#         ax=axes[row_idx, col_idx],\n",
    "#     )\n",
    "#     sns.kdeplot(\n",
    "#         df.filter(pl.col(\"CVD\") == 0).select(column).to_series(),\n",
    "#         alpha=0.5,\n",
    "#         fill=True,\n",
    "#         color=\"#97B9F4\",\n",
    "#         label=\"Normal\",\n",
    "#         ax=axes[row_idx, col_idx],\n",
    "#     )\n",
    "\n",
    "#     axes[row_idx, col_idx].set_xlabel(column)\n",
    "#     axes[row_idx, col_idx].set_ylabel(\"Frequency\")\n",
    "#     axes[row_idx, col_idx].set_title(f\"{column} Distribution over Heart Disease\")\n",
    "#     axes[row_idx, col_idx].legend()\n",
    "\n",
    "# plt.tight_layout()\n",
    "# plt.show()"
   ]
  }
 ],
 "metadata": {
  "kernelspec": {
   "display_name": "Python 3",
   "language": "python",
   "name": "python3"
  },
  "language_info": {
   "codemirror_mode": {
    "name": "ipython",
    "version": 3
   },
   "file_extension": ".py",
   "mimetype": "text/x-python",
   "name": "python",
   "nbconvert_exporter": "python",
   "pygments_lexer": "ipython3",
   "version": "3.13.2"
  }
 },
 "nbformat": 4,
 "nbformat_minor": 2
}
