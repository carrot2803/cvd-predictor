{
 "cells": [
  {
   "cell_type": "code",
   "execution_count": null,
   "metadata": {},
   "outputs": [],
   "source": [
    "%cd ~/Documents/cvd-predictor/\n",
    "from sklearnex import patch_sklearn\n",
    "patch_sklearn()\n",
    "import polars as pl\n",
    "from CVD.utils import correlation_matrix, get_metrics, plot_feature_importances\n",
    "from CVD.utils.encode import encode_data\n",
    "import numpy as np\n",
    "from sklearn.model_selection import train_test_split\n",
    "from sklearn.preprocessing import StandardScaler\n",
    "from sklearn.linear_model import LogisticRegression\n",
    "from sklearn.ensemble import RandomForestClassifier\n",
    "from sklearn.naive_bayes import GaussianNB\n",
    "from sklearn.neural_network import MLPClassifier\n",
    "from plotly.graph_objs._figure import Figure\n",
    "from sklearn.svm import SVC\n",
    "from xgboost import XGBClassifier\n",
    "from lightgbm import LGBMClassifier\n",
    "from sklearn.metrics import classification_report\n",
    "import pickle"
   ]
  },
  {
   "cell_type": "code",
   "execution_count": null,
   "metadata": {},
   "outputs": [],
   "source": [
    "csv_path = \"data/intermediate/heart_cdc_2023.csv\"\n",
    "parquet_path = \"data/intermediate/heart_cdc_2023.parquet\"\n",
    "# pl.read_csv(csv_path).write_parquet(parquet_path)"
   ]
  },
  {
   "cell_type": "code",
   "execution_count": null,
   "metadata": {},
   "outputs": [],
   "source": [
    "df: pl.DataFrame = pl.read_parquet(parquet_path)\n",
    "df: pl.DataFrame = encode_data(df).drop_nulls()\n",
    "df\n",
    "# df.write_parquet(\"data/intermediate/heart_cdc_2023_cleaned.parquet\")"
   ]
  },
  {
   "cell_type": "code",
   "execution_count": null,
   "metadata": {},
   "outputs": [],
   "source": [
    "fig: Figure = correlation_matrix(df, [\"Sex\"])\n",
    "fig.show()"
   ]
  },
  {
   "cell_type": "code",
   "execution_count": null,
   "metadata": {},
   "outputs": [],
   "source": [
    "X: pl.DataFrame = df.drop([\"CVD\"])\n",
    "y: pl.Series = df[\"CVD\"]\n",
    "\n",
    "scaler = StandardScaler()\n",
    "X[X.columns] = scaler.fit_transform(X.to_numpy())\n",
    "\n",
    "# pickle.dump(scaler, open(\"data/training/Scaler.pkl\", \"wb\"))"
   ]
  },
  {
   "cell_type": "code",
   "execution_count": null,
   "metadata": {},
   "outputs": [],
   "source": [
    "X_train, X_test, y_train, y_test = train_test_split(\n",
    "    X, y, test_size=0.2, random_state=42, stratify=y\n",
    ")\n",
    "y_train.value_counts()"
   ]
  },
  {
   "cell_type": "code",
   "execution_count": null,
   "metadata": {},
   "outputs": [],
   "source": [
    "models = {\n",
    "    # \"Logistic Regression\": LogisticRegression(max_iter=10000, random_state=42),\n",
    "    # \"Naive Bayes\": GaussianNB(),\n",
    "    # \"SVM\": SVC(probability=True),  # SVM with probability\n",
    "    # \"Random Forest\": RandomForestClassifier(n_estimators=100, random_state=42),\n",
    "    \"LightGBM\": LGBMClassifier(\n",
    "        n_estimators=1_000, random_state=42, n_jobs=-1\n",
    "    ),\n",
    "    \"XGBoost\": XGBClassifier(\n",
    "        n_estimators=1_000,\n",
    "        eval_metric=\"map\",\n",
    "        random_state=42,\n",
    "        tree_method=\"hist\",\n",
    "        device=\"cuda\",\n",
    "        verbosity=2 \n",
    "    ),\n",
    "\t\"MLP\": MLPClassifier(\n",
    "\thidden_layer_sizes=(64, 32),\n",
    "\tactivation=\"relu\",\n",
    "\tsolver=\"adam\",\n",
    "\talpha=1e-4,\n",
    "\tbatch_size=\"auto\",\n",
    "\tlearning_rate=\"adaptive\",\n",
    "\tmax_iter=200,\n",
    "\trandom_state=42,\n",
    "\tverbose=True\n",
    "    ),\n",
    "}"
   ]
  },
  {
   "cell_type": "code",
   "execution_count": null,
   "metadata": {},
   "outputs": [],
   "source": [
    "results: list[dict] = []\n",
    "for name, model in models.items():\n",
    "    model.fit(X_train, y_train)\n",
    "    y_pred_prob: np.ndarray = model.predict_proba(X_test)[:, 1]\n",
    "    y_pred_binary: np.ndarray = (y_pred_prob >= 0.5).astype(int)\n",
    "    print(classification_report(y_test, y_pred_binary))\n",
    "    results.append(get_metrics(y_test, y_pred_binary, name))\n",
    "    # pickle.dump(model, open(f\"data/training/{name}.pkl\", \"wb\"))\n",
    "    # plot_feature_importances(model, X, 15, name)"
   ]
  },
  {
   "cell_type": "code",
   "execution_count": null,
   "metadata": {},
   "outputs": [],
   "source": [
    "results_df = pl.DataFrame(results)\n",
    "results_df\n",
    "# 82.64 lightGbm\n",
    "# 79.3 XGboosts"
   ]
  }
 ],
 "metadata": {
  "kernelspec": {
   "display_name": "Python 3",
   "language": "python",
   "name": "python3"
  },
  "language_info": {
   "codemirror_mode": {
    "name": "ipython",
    "version": 3
   },
   "file_extension": ".py",
   "mimetype": "text/x-python",
   "name": "python",
   "nbconvert_exporter": "python",
   "pygments_lexer": "ipython3",
   "version": "3.11.3"
  }
 },
 "nbformat": 4,
 "nbformat_minor": 2
}
