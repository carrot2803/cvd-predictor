{
 "cells": [
  {
   "cell_type": "code",
   "execution_count": null,
   "metadata": {},
   "outputs": [],
   "source": [
    "%cd ~/Documents/cvd-predictor\n",
    "import polars as pl\n",
    "import numpy as np"
   ]
  },
  {
   "cell_type": "code",
   "execution_count": null,
   "metadata": {},
   "outputs": [],
   "source": [
    "# df: pl.DataFrame = pl.read_csv(\"data/raw/LLCP2023.csv\")\n",
    "# df.write_parquet(\"data/intermediate/LLCP2023.parquet\")\n",
    "df: pl.DataFrame = pl.read_parquet(\"data/intermediate/LLCP2023.parquet\")"
   ]
  },
  {
   "cell_type": "code",
   "execution_count": null,
   "metadata": {},
   "outputs": [],
   "source": [
    "variables: pl.DataFrame = pl.read_csv(\"data/raw/selected_variables.csv\")\n",
    "df: pl.DataFrame = df[variables[\"Variable\"]]\n",
    "df.columns = variables[\"Renamed\"]\n",
    "df"
   ]
  },
  {
   "cell_type": "code",
   "execution_count": null,
   "metadata": {},
   "outputs": [],
   "source": [
    "df: pl.DataFrame = df.with_columns(\n",
    "    pl.when(\n",
    "        (pl.col(\"BlindOrVisionDifficulty\") == 1)\n",
    "        | (pl.col(\"DeafOrHardOfHearing\") == 1)\n",
    "    )\n",
    "    .then(1)\n",
    "    .when(\n",
    "        (pl.col(\"BlindOrVisionDifficulty\") == 2)\n",
    "        | (pl.col(\"DeafOrHardOfHearing\") == 2)\n",
    "    )\n",
    "    .then(0)\n",
    "    .otherwise(None) \n",
    "    .cast(pl.Int8)  \n",
    "    .alias(\"Sensory Impairments\")\n",
    ")\n",
    "df: pl.DataFrame = df.drop([\"BlindOrVisionDifficulty\", \"DeafOrHardOfHearing\"])"
   ]
  },
  {
   "cell_type": "code",
   "execution_count": null,
   "metadata": {},
   "outputs": [],
   "source": [
    "df: pl.DataFrame = df.with_columns(\n",
    "    pl.when(\n",
    "        (pl.col(\"FluVaxLast12\") == 1)\n",
    "        | (pl.col(\"PneumoVaxEver\") == 1)\n",
    "    )\n",
    "    .then(1)\n",
    "    .when(\n",
    "        (pl.col(\"FluVaxLast12\") == 2)\n",
    "        | (pl.col(\"PneumoVaxEver\") == 2)\n",
    "    )\n",
    "    .then(0)\n",
    "    .otherwise(None) \n",
    "    .cast(pl.Int8)  \n",
    "    .alias(\"Vaccinated\")\n",
    ")\n",
    "df: pl.DataFrame = df.drop([\"FluVaxLast12\", \"PneumoVaxEver\"])"
   ]
  },
  {
   "cell_type": "code",
   "execution_count": null,
   "metadata": {},
   "outputs": [],
   "source": [
    "df: pl.DataFrame = df.with_columns(\n",
    "    pl.when(\n",
    "        (pl.col(\"DifficultyWalking\") == 1)\n",
    "        | (pl.col(\"DifficultyDressingBathing\") == 1)\n",
    "        | (pl.col(\"DifficultyErrands\") == 1)\n",
    "    )\n",
    "    .then(1)\n",
    "    .when(\n",
    "        (pl.col(\"DifficultyWalking\") == 2)\n",
    "        | (pl.col(\"DifficultyDressingBathing\") == 2)\n",
    "        | (pl.col(\"DifficultyErrands\") == 2)\n",
    "    )\n",
    "    .then(0)\n",
    "    .otherwise(None) \n",
    "    .cast(pl.Int8)  \n",
    "    .alias(\"Mobility\")\n",
    ")\n",
    "df: pl.DataFrame = df.drop([\"DifficultyWalking\", \"DifficultyDressingBathing\", \"DifficultyErrands\"])"
   ]
  },
  {
   "cell_type": "code",
   "execution_count": null,
   "metadata": {},
   "outputs": [],
   "source": [
    "df: pl.DataFrame = df.with_columns(\n",
    "    pl.when(pl.col(\"SmokerStatus\") == 9)\n",
    "      .then(None)\n",
    "      .otherwise(pl.col(\"SmokerStatus\"))\n",
    "      .alias(\"SmokerStatus\")\n",
    ")"
   ]
  },
  {
   "cell_type": "code",
   "execution_count": null,
   "metadata": {},
   "outputs": [],
   "source": [
    "df: pl.DataFrame = df.with_columns(\n",
    "    pl.when(pl.col(\"HaveHighCholesterol\")==1)\n",
    "    .then(1)\n",
    "    .when(\n",
    "        (pl.col(\"HaveHighCholesterol\")==2)\n",
    "    )\n",
    "    .then(0)\n",
    "    .otherwise(None)\n",
    "    .cast(pl.Int8)\n",
    "    .alias(\"HaveHighCholesterol\")\n",
    ")"
   ]
  },
  {
   "cell_type": "code",
   "execution_count": null,
   "metadata": {},
   "outputs": [],
   "source": [
    "LAST_CHECKUP: dict[int, str] = {\n",
    "    1: 1,\n",
    "    2: 2,\n",
    "    3: 3,\n",
    "    4: 4,\n",
    "    7: None,\n",
    "    8: None,\n",
    "    9: None,\n",
    "}"
   ]
  },
  {
   "cell_type": "code",
   "execution_count": null,
   "metadata": {},
   "outputs": [],
   "source": [
    "df=df.drop_nulls([\"GeneralHealth\",\"PhysicalHealthDays\",\"MentalHealthDays\",\"HadSkinCancer\",\"HadArthritis\",\"HadDiabetes\"])\n",
    "df = df.with_columns(\n",
    "    pl.col(\"Sex\").map_elements(lambda x: 0 if x == 2 else x, return_dtype=pl.Int8),\n",
    "    pl.col(\"GeneralHealth\").map_elements(lambda x: None if x == 7 or x == 9 else x, return_dtype=pl.Int8),\n",
    "    pl.col(\"PhysicalHealthDays\").map_elements(lambda x: None if x >30 else x, return_dtype=pl.Int8),\n",
    "    pl.col(\"MentalHealthDays\").map_elements(lambda x: None if x >30 else x, return_dtype=pl.Int8),\n",
    "    pl.col(\"LastCheckupTime\").map_elements(LAST_CHECKUP.get, return_dtype=pl.Int8),\n",
    "    pl.col(\"PhysicalActivities\").map_elements(lambda x: None if x == 7 or x == 9 else x, return_dtype=pl.Int8),\n",
    "    pl.col(\"HadAsthma\").map_elements(lambda x: None if x == 7 or x == 9 else x, return_dtype=pl.Int8),\n",
    "    pl.col(\"HadSkinCancer\").map_elements(lambda x: None if x == 7 or x == 9 else x, return_dtype=pl.Int8),\n",
    "    pl.col(\"HadCOPD\").map_elements(lambda x: None if x == 7 or x == 9 else x, return_dtype=pl.Int8),\n",
    "    pl.col(\"HadDepressiveDisorder\").map_elements(lambda x: None if x == 7 or x == 9 else x, return_dtype=pl.Int8),\n",
    "    pl.col(\"HadKidneyDisease\").map_elements(lambda x: None if x == 7 or x == 9 else x, return_dtype=pl.Int8),\n",
    "    pl.col(\"HadArthritis\").map_elements(lambda x: None if x == 7 or x == 9 else x, return_dtype=pl.Int8),\n",
    "    pl.col(\"HadDiabetes\").map_elements(lambda x: None if x == 7 or x == 9 else x, return_dtype=pl.Int8),\n",
    "    pl.col(\"AgeCategory\").map_elements(lambda x: None if x == 14 else x, return_dtype=pl.Int8),\n",
    "    pl.col(\"AlcoholDrinkers\").map_elements(lambda x: None if x == 7 or x == 9 else x, return_dtype=pl.Int8),\n",
    "    pl.col(\"HeightInMeters\") / 100,\n",
    "    pl.col(\"WeightInKilograms\") / 100,\n",
    "    pl.col(\"BMI\") / 100,\n",
    ")"
   ]
  },
  {
   "cell_type": "code",
   "execution_count": null,
   "metadata": {},
   "outputs": [],
   "source": [
    "df: pl.DataFrame = df.with_columns(\n",
    "    pl.when(\n",
    "        (pl.col(\"HadHeartAttack\") == 1)\n",
    "        | (pl.col(\"HadAngina\") == 1)\n",
    "        | (pl.col(\"HadStroke\") == 1)\n",
    "    )\n",
    "    .then(1)\n",
    "    .when(\n",
    "        (pl.col(\"HadHeartAttack\") == 2)\n",
    "        | (pl.col(\"HadAngina\") == 2)\n",
    "        | (pl.col(\"HadStroke\") == 2)\n",
    "    )\n",
    "    .then(0)\n",
    "    .otherwise(None) \n",
    "    .cast(pl.Int8)  \n",
    "    .alias(\"CVD\")\n",
    ")\n",
    "df: pl.DataFrame = df.drop([\"HadHeartAttack\", \"HadAngina\", \"HadStroke\"])\n"
   ]
  },
  {
   "cell_type": "code",
   "execution_count": null,
   "metadata": {},
   "outputs": [],
   "source": [
    "df=df.drop_nulls([\"CVD\"])\n",
    "df"
   ]
  },
  {
   "cell_type": "code",
   "execution_count": null,
   "metadata": {},
   "outputs": [],
   "source": [
    "df.write_csv(\"data/intermediate/heart_cdc_2023.csv\")\n",
    "df"
   ]
  }
 ],
 "metadata": {
  "kernelspec": {
   "display_name": "Python 3",
   "language": "python",
   "name": "python3"
  },
  "language_info": {
   "codemirror_mode": {
    "name": "ipython",
    "version": 3
   },
   "file_extension": ".py",
   "mimetype": "text/x-python",
   "name": "python",
   "nbconvert_exporter": "python",
   "pygments_lexer": "ipython3",
   "version": "3.11.3"
  }
 },
 "nbformat": 4,
 "nbformat_minor": 2
}
