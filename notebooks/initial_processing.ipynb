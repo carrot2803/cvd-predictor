{
 "cells": [
  {
   "cell_type": "code",
   "execution_count": 1,
   "metadata": {},
   "outputs": [
    {
     "name": "stdout",
     "output_type": "stream",
     "text": [
      "C:\\Users\\Lorenzo\\Documents\\cvd-predictor\n"
     ]
    }
   ],
   "source": [
    "%cd ~/Documents/cvd-predictor\n",
    "import polars as pl\n",
    "from CVD.models.preprocesser import PreProcesser\n",
    "csv_path = \"data/raw/LLCP2023.csv\"\n",
    "parquet_path = \"data/intermediate/LLCP2023.parquet\""
   ]
  },
  {
   "cell_type": "code",
   "execution_count": 2,
   "metadata": {},
   "outputs": [],
   "source": [
    "pl.read_csv(csv_path).write_parquet(parquet_path)\n",
    "df: pl.DataFrame = pl.read_parquet(parquet_path)"
   ]
  },
  {
   "cell_type": "code",
   "execution_count": 3,
   "metadata": {},
   "outputs": [],
   "source": [
    "variables: pl.DataFrame = pl.read_csv(\"data/raw/selected_variables.csv\")\n",
    "df: pl.DataFrame = df[variables[\"Variable\"]]\n",
    "df.columns = variables[\"Renamed\"]"
   ]
  },
  {
   "cell_type": "code",
   "execution_count": 4,
   "metadata": {},
   "outputs": [],
   "source": [
    "preprocesser: PreProcesser = PreProcesser()\n",
    "df: pl.DataFrame = preprocesser.merge_columns(df)\n",
    "df = preprocesser.encode_columns(df)\n",
    "df = preprocesser.merge_cvd(df)"
   ]
  },
  {
   "cell_type": "code",
   "execution_count": 5,
   "metadata": {},
   "outputs": [
    {
     "data": {
      "text/html": [
       "<div><style>\n",
       ".dataframe > thead > tr,\n",
       ".dataframe > tbody > tr {\n",
       "  text-align: right;\n",
       "  white-space: pre-wrap;\n",
       "}\n",
       "</style>\n",
       "<small>shape: (433_016, 24)</small><table border=\"1\" class=\"dataframe\"><thead><tr><th>Sex</th><th>GeneralHealth</th><th>PhysicalHealthDays</th><th>MentalHealthDays</th><th>LastCheckupTime</th><th>PhysicalActivities</th><th>HadAsthma</th><th>HadSkinCancer</th><th>HadCOPD</th><th>HadDepressiveDisorder</th><th>HadKidneyDisease</th><th>HadArthritis</th><th>HadDiabetes</th><th>SmokerStatus</th><th>AgeCategory</th><th>HeightInMeters</th><th>WeightInKilograms</th><th>BMI</th><th>AlcoholDrinkers</th><th>HaveHighCholesterol</th><th>Sensory Impairments</th><th>Vaccinated</th><th>Mobility</th><th>CVD</th></tr><tr><td>i8</td><td>i8</td><td>i8</td><td>i8</td><td>i8</td><td>i8</td><td>i8</td><td>i8</td><td>i8</td><td>i8</td><td>i8</td><td>i8</td><td>i8</td><td>i64</td><td>i8</td><td>f64</td><td>f64</td><td>f64</td><td>i8</td><td>i8</td><td>i8</td><td>i8</td><td>i8</td><td>i8</td></tr></thead><tbody><tr><td>0</td><td>2</td><td>null</td><td>null</td><td>2</td><td>2</td><td>2</td><td>2</td><td>2</td><td>2</td><td>2</td><td>2</td><td>1</td><td>4</td><td>13</td><td>1.6</td><td>78.02</td><td>30.47</td><td>2</td><td>0</td><td>0</td><td>0</td><td>1</td><td>0</td></tr><tr><td>0</td><td>2</td><td>null</td><td>null</td><td>2</td><td>1</td><td>2</td><td>2</td><td>2</td><td>1</td><td>2</td><td>1</td><td>3</td><td>4</td><td>13</td><td>1.45</td><td>59.87</td><td>28.56</td><td>2</td><td>1</td><td>1</td><td>1</td><td>0</td><td>0</td></tr><tr><td>0</td><td>4</td><td>6</td><td>2</td><td>1</td><td>1</td><td>1</td><td>2</td><td>2</td><td>2</td><td>2</td><td>1</td><td>3</td><td>3</td><td>13</td><td>1.63</td><td>58.97</td><td>22.31</td><td>2</td><td>1</td><td>1</td><td>1</td><td>1</td><td>0</td></tr><tr><td>0</td><td>2</td><td>2</td><td>null</td><td>3</td><td>1</td><td>2</td><td>1</td><td>2</td><td>1</td><td>2</td><td>1</td><td>3</td><td>4</td><td>12</td><td>1.68</td><td>77.11</td><td>27.44</td><td>2</td><td>0</td><td>0</td><td>1</td><td>1</td><td>0</td></tr><tr><td>0</td><td>4</td><td>null</td><td>null</td><td>1</td><td>1</td><td>2</td><td>2</td><td>2</td><td>1</td><td>2</td><td>1</td><td>1</td><td>4</td><td>12</td><td>1.73</td><td>77.11</td><td>25.85</td><td>1</td><td>0</td><td>0</td><td>1</td><td>1</td><td>0</td></tr><tr><td>&hellip;</td><td>&hellip;</td><td>&hellip;</td><td>&hellip;</td><td>&hellip;</td><td>&hellip;</td><td>&hellip;</td><td>&hellip;</td><td>&hellip;</td><td>&hellip;</td><td>&hellip;</td><td>&hellip;</td><td>&hellip;</td><td>&hellip;</td><td>&hellip;</td><td>&hellip;</td><td>&hellip;</td><td>&hellip;</td><td>&hellip;</td><td>&hellip;</td><td>&hellip;</td><td>&hellip;</td><td>&hellip;</td><td>&hellip;</td></tr><tr><td>1</td><td>3</td><td>12</td><td>30</td><td>1</td><td>1</td><td>2</td><td>2</td><td>2</td><td>2</td><td>2</td><td>2</td><td>3</td><td>4</td><td>10</td><td>1.93</td><td>108.86</td><td>29.21</td><td>1</td><td>1</td><td>0</td><td>0</td><td>0</td><td>0</td></tr><tr><td>0</td><td>2</td><td>null</td><td>null</td><td>1</td><td>2</td><td>2</td><td>2</td><td>2</td><td>2</td><td>2</td><td>2</td><td>3</td><td>4</td><td>3</td><td>1.65</td><td>68.04</td><td>24.96</td><td>2</td><td>0</td><td>0</td><td>0</td><td>0</td><td>0</td></tr><tr><td>0</td><td>2</td><td>10</td><td>null</td><td>1</td><td>1</td><td>2</td><td>2</td><td>2</td><td>2</td><td>2</td><td>2</td><td>3</td><td>4</td><td>7</td><td>1.68</td><td>96.62</td><td>34.38</td><td>1</td><td>1</td><td>0</td><td>1</td><td>0</td><td>0</td></tr><tr><td>0</td><td>3</td><td>null</td><td>null</td><td>1</td><td>1</td><td>2</td><td>2</td><td>2</td><td>2</td><td>2</td><td>2</td><td>1</td><td>4</td><td>10</td><td>1.63</td><td>63.05</td><td>23.86</td><td>2</td><td>1</td><td>0</td><td>0</td><td>0</td><td>0</td></tr><tr><td>1</td><td>5</td><td>2</td><td>null</td><td>null</td><td>1</td><td>2</td><td>2</td><td>2</td><td>2</td><td>null</td><td>2</td><td>3</td><td>1</td><td>6</td><td>1.78</td><td>56.7</td><td>17.94</td><td>1</td><td>null</td><td>0</td><td>0</td><td>0</td><td>0</td></tr></tbody></table></div>"
      ],
      "text/plain": [
       "shape: (433_016, 24)\n",
       "┌─────┬──────────────┬──────────────┬──────────────┬───┬─────────────┬────────────┬──────────┬─────┐\n",
       "│ Sex ┆ GeneralHealt ┆ PhysicalHeal ┆ MentalHealth ┆ … ┆ Sensory     ┆ Vaccinated ┆ Mobility ┆ CVD │\n",
       "│ --- ┆ h            ┆ thDays       ┆ Days         ┆   ┆ Impairments ┆ ---        ┆ ---      ┆ --- │\n",
       "│ i8  ┆ ---          ┆ ---          ┆ ---          ┆   ┆ ---         ┆ i8         ┆ i8       ┆ i8  │\n",
       "│     ┆ i8           ┆ i8           ┆ i8           ┆   ┆ i8          ┆            ┆          ┆     │\n",
       "╞═════╪══════════════╪══════════════╪══════════════╪═══╪═════════════╪════════════╪══════════╪═════╡\n",
       "│ 0   ┆ 2            ┆ null         ┆ null         ┆ … ┆ 0           ┆ 0          ┆ 1        ┆ 0   │\n",
       "│ 0   ┆ 2            ┆ null         ┆ null         ┆ … ┆ 1           ┆ 1          ┆ 0        ┆ 0   │\n",
       "│ 0   ┆ 4            ┆ 6            ┆ 2            ┆ … ┆ 1           ┆ 1          ┆ 1        ┆ 0   │\n",
       "│ 0   ┆ 2            ┆ 2            ┆ null         ┆ … ┆ 0           ┆ 1          ┆ 1        ┆ 0   │\n",
       "│ 0   ┆ 4            ┆ null         ┆ null         ┆ … ┆ 0           ┆ 1          ┆ 1        ┆ 0   │\n",
       "│ …   ┆ …            ┆ …            ┆ …            ┆ … ┆ …           ┆ …          ┆ …        ┆ …   │\n",
       "│ 1   ┆ 3            ┆ 12           ┆ 30           ┆ … ┆ 0           ┆ 0          ┆ 0        ┆ 0   │\n",
       "│ 0   ┆ 2            ┆ null         ┆ null         ┆ … ┆ 0           ┆ 0          ┆ 0        ┆ 0   │\n",
       "│ 0   ┆ 2            ┆ 10           ┆ null         ┆ … ┆ 0           ┆ 1          ┆ 0        ┆ 0   │\n",
       "│ 0   ┆ 3            ┆ null         ┆ null         ┆ … ┆ 0           ┆ 0          ┆ 0        ┆ 0   │\n",
       "│ 1   ┆ 5            ┆ 2            ┆ null         ┆ … ┆ 0           ┆ 0          ┆ 0        ┆ 0   │\n",
       "└─────┴──────────────┴──────────────┴──────────────┴───┴─────────────┴────────────┴──────────┴─────┘"
      ]
     },
     "execution_count": 5,
     "metadata": {},
     "output_type": "execute_result"
    }
   ],
   "source": [
    "df: pl.DataFrame = df.drop_nulls([\"CVD\"])\n",
    "df.write_csv(\"data/intermediate/heart_cdc_2023.csv\")\n",
    "df"
   ]
  }
 ],
 "metadata": {
  "kernelspec": {
   "display_name": "Python 3",
   "language": "python",
   "name": "python3"
  },
  "language_info": {
   "codemirror_mode": {
    "name": "ipython",
    "version": 3
   },
   "file_extension": ".py",
   "mimetype": "text/x-python",
   "name": "python",
   "nbconvert_exporter": "python",
   "pygments_lexer": "ipython3",
   "version": "3.12.2"
  }
 },
 "nbformat": 4,
 "nbformat_minor": 2
}
