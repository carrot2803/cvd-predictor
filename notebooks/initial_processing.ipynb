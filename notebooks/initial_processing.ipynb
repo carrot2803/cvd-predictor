{
 "cells": [
  {
   "cell_type": "code",
   "execution_count": null,
   "metadata": {},
   "outputs": [],
   "source": [
    "%cd ~/Documents/cvd-predictor\n",
    "import polars as pl\n",
    "import numpy as np\n",
    "from CVD.models.preprocesser import PreProcesser"
   ]
  },
  {
   "cell_type": "code",
   "execution_count": null,
   "metadata": {},
   "outputs": [],
   "source": [
    "# df: pl.DataFrame = pl.read_csv(\"data/raw/LLCP2023.csv\")\n",
    "# df.write_parquet(\"data/intermediate/LLCP2023.parquet\")\n",
    "df: pl.DataFrame = pl.read_parquet(\"data/intermediate/LLCP2023.parquet\")"
   ]
  },
  {
   "cell_type": "code",
   "execution_count": null,
   "metadata": {},
   "outputs": [],
   "source": [
    "variables: pl.DataFrame = pl.read_csv(\"data/raw/selected_variables.csv\")\n",
    "df: pl.DataFrame = df[variables[\"Variable\"]]\n",
    "df.columns = variables[\"Renamed\"]"
   ]
  },
  {
   "cell_type": "code",
   "execution_count": null,
   "metadata": {},
   "outputs": [],
   "source": [
    "preprocesser: PreProcesser = PreProcesser()\n",
    "df: pl.DataFrame = preprocesser.merge_columns(df)\n",
    "df = preprocesser.encode_columns(df)\n",
    "df = preprocesser.merge_cvd(df)"
   ]
  },
  {
   "cell_type": "code",
   "execution_count": null,
   "metadata": {},
   "outputs": [],
   "source": [
    "df: pl.DataFrame = df.drop_nulls([\"CVD\"])\n",
    "df.write_csv(\"data/intermediate/heart_cdc_2023.csv\")\n",
    "df"
   ]
  }
 ],
 "metadata": {
  "kernelspec": {
   "display_name": "Python 3",
   "language": "python",
   "name": "python3"
  },
  "language_info": {
   "codemirror_mode": {
    "name": "ipython",
    "version": 3
   },
   "file_extension": ".py",
   "mimetype": "text/x-python",
   "name": "python",
   "nbconvert_exporter": "python",
   "pygments_lexer": "ipython3",
   "version": "3.11.3"
  }
 },
 "nbformat": 4,
 "nbformat_minor": 2
}
